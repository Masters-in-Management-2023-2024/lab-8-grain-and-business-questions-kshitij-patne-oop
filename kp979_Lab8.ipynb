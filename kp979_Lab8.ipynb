{
  "nbformat": 4,
  "nbformat_minor": 0,
  "metadata": {
    "colab": {
      "provenance": []
    },
    "kernelspec": {
      "name": "python3",
      "display_name": "Python 3"
    },
    "language_info": {
      "name": "python"
    }
  },
  "cells": [
    {
      "cell_type": "code",
      "execution_count": 2,
      "metadata": {
        "colab": {
          "base_uri": "https://localhost:8080/"
        },
        "id": "M-gLrnjc9dz9",
        "outputId": "5d9fb141-f0fe-4f6f-89d9-ad849407b4bd"
      },
      "outputs": [
        {
          "output_type": "stream",
          "name": "stdout",
          "text": [
            "Loading diamonds dataset...\n",
            "Dataset loaded successfully!\n"
          ]
        }
      ],
      "source": [
        "import polars as pl\n",
        "\n",
        "# Load the diamonds dataset\n",
        "print(\"Loading diamonds dataset...\")\n",
        "df = pl.read_csv('https://raw.githubusercontent.com/pycaret/pycaret/master/datasets/diamond.csv')\n",
        "print(\"Dataset loaded successfully!\")"
      ]
    },
    {
      "cell_type": "code",
      "source": [
        "#q1\n",
        "df.height"
      ],
      "metadata": {
        "colab": {
          "base_uri": "https://localhost:8080/"
        },
        "id": "ZJnx6Lbw-u0I",
        "outputId": "90ebd361-c57e-4ec7-949b-6d9cecea4643"
      },
      "execution_count": 3,
      "outputs": [
        {
          "output_type": "execute_result",
          "data": {
            "text/plain": [
              "6000"
            ]
          },
          "metadata": {},
          "execution_count": 3
        }
      ]
    },
    {
      "cell_type": "code",
      "source": [
        "#q2\n",
        "col_names = df.columns\n",
        "col_names"
      ],
      "metadata": {
        "colab": {
          "base_uri": "https://localhost:8080/"
        },
        "id": "6CTQpTSRB_eS",
        "outputId": "1de003ce-670a-4ceb-91e5-e90473300a17"
      },
      "execution_count": 4,
      "outputs": [
        {
          "output_type": "execute_result",
          "data": {
            "text/plain": [
              "['Carat Weight',\n",
              " 'Cut',\n",
              " 'Color',\n",
              " 'Clarity',\n",
              " 'Polish',\n",
              " 'Symmetry',\n",
              " 'Report',\n",
              " 'Price']"
            ]
          },
          "metadata": {},
          "execution_count": 4
        }
      ]
    },
    {
      "cell_type": "code",
      "source": [
        "# q3\n",
        "# each row represents the characteristics of a diamond (grain = 1 row is 1 diamond) -  such as its carat weight, color, cut, price etc\n",
        "df.head()"
      ],
      "metadata": {
        "colab": {
          "base_uri": "https://localhost:8080/",
          "height": 255
        },
        "id": "BOqUPvyqCsiV",
        "outputId": "9002a494-bdb3-493c-fb39-956f02a33d68"
      },
      "execution_count": 5,
      "outputs": [
        {
          "output_type": "execute_result",
          "data": {
            "text/plain": [
              "shape: (5, 8)\n",
              "┌──────────────┬───────┬───────┬─────────┬────────┬──────────┬────────┬───────┐\n",
              "│ Carat Weight ┆ Cut   ┆ Color ┆ Clarity ┆ Polish ┆ Symmetry ┆ Report ┆ Price │\n",
              "│ ---          ┆ ---   ┆ ---   ┆ ---     ┆ ---    ┆ ---      ┆ ---    ┆ ---   │\n",
              "│ f64          ┆ str   ┆ str   ┆ str     ┆ str    ┆ str      ┆ str    ┆ i64   │\n",
              "╞══════════════╪═══════╪═══════╪═════════╪════════╪══════════╪════════╪═══════╡\n",
              "│ 1.1          ┆ Ideal ┆ H     ┆ SI1     ┆ VG     ┆ EX       ┆ GIA    ┆ 5169  │\n",
              "│ 0.83         ┆ Ideal ┆ H     ┆ VS1     ┆ ID     ┆ ID       ┆ AGSL   ┆ 3470  │\n",
              "│ 0.85         ┆ Ideal ┆ H     ┆ SI1     ┆ EX     ┆ EX       ┆ GIA    ┆ 3183  │\n",
              "│ 0.91         ┆ Ideal ┆ E     ┆ SI1     ┆ VG     ┆ VG       ┆ GIA    ┆ 4370  │\n",
              "│ 0.83         ┆ Ideal ┆ G     ┆ SI1     ┆ EX     ┆ EX       ┆ GIA    ┆ 3171  │\n",
              "└──────────────┴───────┴───────┴─────────┴────────┴──────────┴────────┴───────┘"
            ],
            "text/html": [
              "<div><style>\n",
              ".dataframe > thead > tr,\n",
              ".dataframe > tbody > tr {\n",
              "  text-align: right;\n",
              "  white-space: pre-wrap;\n",
              "}\n",
              "</style>\n",
              "<small>shape: (5, 8)</small><table border=\"1\" class=\"dataframe\"><thead><tr><th>Carat Weight</th><th>Cut</th><th>Color</th><th>Clarity</th><th>Polish</th><th>Symmetry</th><th>Report</th><th>Price</th></tr><tr><td>f64</td><td>str</td><td>str</td><td>str</td><td>str</td><td>str</td><td>str</td><td>i64</td></tr></thead><tbody><tr><td>1.1</td><td>&quot;Ideal&quot;</td><td>&quot;H&quot;</td><td>&quot;SI1&quot;</td><td>&quot;VG&quot;</td><td>&quot;EX&quot;</td><td>&quot;GIA&quot;</td><td>5169</td></tr><tr><td>0.83</td><td>&quot;Ideal&quot;</td><td>&quot;H&quot;</td><td>&quot;VS1&quot;</td><td>&quot;ID&quot;</td><td>&quot;ID&quot;</td><td>&quot;AGSL&quot;</td><td>3470</td></tr><tr><td>0.85</td><td>&quot;Ideal&quot;</td><td>&quot;H&quot;</td><td>&quot;SI1&quot;</td><td>&quot;EX&quot;</td><td>&quot;EX&quot;</td><td>&quot;GIA&quot;</td><td>3183</td></tr><tr><td>0.91</td><td>&quot;Ideal&quot;</td><td>&quot;E&quot;</td><td>&quot;SI1&quot;</td><td>&quot;VG&quot;</td><td>&quot;VG&quot;</td><td>&quot;GIA&quot;</td><td>4370</td></tr><tr><td>0.83</td><td>&quot;Ideal&quot;</td><td>&quot;G&quot;</td><td>&quot;SI1&quot;</td><td>&quot;EX&quot;</td><td>&quot;EX&quot;</td><td>&quot;GIA&quot;</td><td>3171</td></tr></tbody></table></div>"
            ]
          },
          "metadata": {},
          "execution_count": 5
        }
      ]
    },
    {
      "cell_type": "code",
      "source": [
        "#q4\n",
        "import polars as pl\n",
        "\n",
        "carat_count = df.select(pl.col('Carat Weight').sum()).item()\n",
        "carat_count"
      ],
      "metadata": {
        "colab": {
          "base_uri": "https://localhost:8080/"
        },
        "id": "Cy7N2rwFDBUC",
        "outputId": "d5770ebe-3d36-4ad3-9394-318de2898e6d"
      },
      "execution_count": 6,
      "outputs": [
        {
          "output_type": "execute_result",
          "data": {
            "text/plain": [
              "8007.120000000001"
            ]
          },
          "metadata": {},
          "execution_count": 6
        }
      ]
    },
    {
      "cell_type": "code",
      "source": [
        "#q5\n",
        "cut_variety = df.select(pl.col('Cut').unique())\n",
        "cut_variety_count = df.select(pl.col('Cut').n_unique()).item()\n",
        "print(cut_variety)\n",
        "print(f'Total unique varieties of cut = {cut_variety_count}')"
      ],
      "metadata": {
        "colab": {
          "base_uri": "https://localhost:8080/"
        },
        "id": "0PfOn4jrFwin",
        "outputId": "ebf99b16-99b2-4a34-e174-8eb7a10486f6"
      },
      "execution_count": 7,
      "outputs": [
        {
          "output_type": "stream",
          "name": "stdout",
          "text": [
            "shape: (5, 1)\n",
            "┌─────────────────┐\n",
            "│ Cut             │\n",
            "│ ---             │\n",
            "│ str             │\n",
            "╞═════════════════╡\n",
            "│ Signature-Ideal │\n",
            "│ Fair            │\n",
            "│ Ideal           │\n",
            "│ Good            │\n",
            "│ Very Good       │\n",
            "└─────────────────┘\n",
            "Total unique varieties of cut = 5\n"
          ]
        }
      ]
    },
    {
      "cell_type": "code",
      "source": [
        "#q6\n",
        "most_expensive_rock = df.select(pl.col('Price').max()).item()\n",
        "cheapests_rock = df.select(pl.col('Price').min()).item()\n",
        "print(f'The costliest diamond costs ${most_expensive_rock:,.2f}')\n",
        "print(f'and the cheapest diamond costs ${cheapests_rock:,.2f}')"
      ],
      "metadata": {
        "colab": {
          "base_uri": "https://localhost:8080/"
        },
        "id": "Dy38cWxqFkT9",
        "outputId": "e3f2046e-088e-4639-f6c8-c46a97831f8c"
      },
      "execution_count": 8,
      "outputs": [
        {
          "output_type": "stream",
          "name": "stdout",
          "text": [
            "The costliest diamond costs $101,561.00\n",
            "and the cheapest diamond costs $2,184.00\n"
          ]
        }
      ]
    },
    {
      "cell_type": "code",
      "source": [
        "#q7\n",
        "price_by_color = df.group_by('Color').agg(pl.col('Price').mean())\n",
        "price_by_color\n",
        "\n",
        "# new grain = 1 row is 1 color\n",
        "#now each row represents the avg price for all diamonds of a particular color"
      ],
      "metadata": {
        "colab": {
          "base_uri": "https://localhost:8080/",
          "height": 286
        },
        "id": "ohbLqAtnH6Hc",
        "outputId": "4720a9bb-501b-4f75-e78b-d523f0ba76df"
      },
      "execution_count": 9,
      "outputs": [
        {
          "output_type": "execute_result",
          "data": {
            "text/plain": [
              "shape: (6, 2)\n",
              "┌───────┬──────────────┐\n",
              "│ Color ┆ Price        │\n",
              "│ ---   ┆ ---          │\n",
              "│ str   ┆ f64          │\n",
              "╞═══════╪══════════════╡\n",
              "│ G     ┆ 12520.050633 │\n",
              "│ D     ┆ 15255.783661 │\n",
              "│ E     ┆ 11539.190231 │\n",
              "│ F     ┆ 12712.241856 │\n",
              "│ H     ┆ 10487.347544 │\n",
              "│ I     ┆ 8989.636364  │\n",
              "└───────┴──────────────┘"
            ],
            "text/html": [
              "<div><style>\n",
              ".dataframe > thead > tr,\n",
              ".dataframe > tbody > tr {\n",
              "  text-align: right;\n",
              "  white-space: pre-wrap;\n",
              "}\n",
              "</style>\n",
              "<small>shape: (6, 2)</small><table border=\"1\" class=\"dataframe\"><thead><tr><th>Color</th><th>Price</th></tr><tr><td>str</td><td>f64</td></tr></thead><tbody><tr><td>&quot;G&quot;</td><td>12520.050633</td></tr><tr><td>&quot;D&quot;</td><td>15255.783661</td></tr><tr><td>&quot;E&quot;</td><td>11539.190231</td></tr><tr><td>&quot;F&quot;</td><td>12712.241856</td></tr><tr><td>&quot;H&quot;</td><td>10487.347544</td></tr><tr><td>&quot;I&quot;</td><td>8989.636364</td></tr></tbody></table></div>"
            ]
          },
          "metadata": {},
          "execution_count": 9
        }
      ]
    },
    {
      "cell_type": "code",
      "source": [
        "#q8\n",
        "clarity_based = df.group_by('Clarity').agg(\n",
        "    pl.col('Clarity').count().alias('count'),\n",
        "    pl.col('Price').mean().alias('avg_Price'),\n",
        "     pl.col('Carat Weight').sum().alias('total_carat_weight'))\n",
        "\n",
        "clarity_based"
      ],
      "metadata": {
        "colab": {
          "base_uri": "https://localhost:8080/",
          "height": 317
        },
        "id": "anF7ykp1JDzC",
        "outputId": "0b11afac-57d9-45ed-db25-521b7ae01d66"
      },
      "execution_count": 14,
      "outputs": [
        {
          "output_type": "execute_result",
          "data": {
            "text/plain": [
              "shape: (7, 4)\n",
              "┌─────────┬───────┬──────────────┬────────────────────┐\n",
              "│ Clarity ┆ count ┆ avg_Price    ┆ total_carat_weight │\n",
              "│ ---     ┆ ---   ┆ ---          ┆ ---                │\n",
              "│ str     ┆ u32   ┆ f64          ┆ f64                │\n",
              "╞═════════╪═══════╪══════════════╪════════════════════╡\n",
              "│ IF      ┆ 219   ┆ 22105.844749 ┆ 316.0              │\n",
              "│ SI1     ┆ 2059  ┆ 8018.864012  ┆ 2563.69            │\n",
              "│ VS2     ┆ 1575  ┆ 11809.053333 ┆ 2170.81            │\n",
              "│ VVS2    ┆ 666   ┆ 14142.177177 ┆ 876.58             │\n",
              "│ FL      ┆ 4     ┆ 63776.0      ┆ 7.87               │\n",
              "│ VS1     ┆ 1192  ┆ 13694.113255 ┆ 1682.74            │\n",
              "│ VVS1    ┆ 285   ┆ 16845.680702 ┆ 389.43             │\n",
              "└─────────┴───────┴──────────────┴────────────────────┘"
            ],
            "text/html": [
              "<div><style>\n",
              ".dataframe > thead > tr,\n",
              ".dataframe > tbody > tr {\n",
              "  text-align: right;\n",
              "  white-space: pre-wrap;\n",
              "}\n",
              "</style>\n",
              "<small>shape: (7, 4)</small><table border=\"1\" class=\"dataframe\"><thead><tr><th>Clarity</th><th>count</th><th>avg_Price</th><th>total_carat_weight</th></tr><tr><td>str</td><td>u32</td><td>f64</td><td>f64</td></tr></thead><tbody><tr><td>&quot;IF&quot;</td><td>219</td><td>22105.844749</td><td>316.0</td></tr><tr><td>&quot;SI1&quot;</td><td>2059</td><td>8018.864012</td><td>2563.69</td></tr><tr><td>&quot;VS2&quot;</td><td>1575</td><td>11809.053333</td><td>2170.81</td></tr><tr><td>&quot;VVS2&quot;</td><td>666</td><td>14142.177177</td><td>876.58</td></tr><tr><td>&quot;FL&quot;</td><td>4</td><td>63776.0</td><td>7.87</td></tr><tr><td>&quot;VS1&quot;</td><td>1192</td><td>13694.113255</td><td>1682.74</td></tr><tr><td>&quot;VVS1&quot;</td><td>285</td><td>16845.680702</td><td>389.43</td></tr></tbody></table></div>"
            ]
          },
          "metadata": {},
          "execution_count": 14
        }
      ]
    },
    {
      "cell_type": "code",
      "source": [
        "#q9\n",
        "cut_color_based = df.group_by(['Cut', 'Color']).agg(pl.col('Price').mean().alias('avg_Price'))\n",
        "cut_color_based\n",
        "\n",
        "# new grain = 1 row is 1 cut-color combo\n",
        "# each row represents the average price for cut-color combinations"
      ],
      "metadata": {
        "colab": {
          "base_uri": "https://localhost:8080/",
          "height": 443
        },
        "id": "bsXFzRfdLxOO",
        "outputId": "e3a4da47-1442-4997-a4a4-9a4e71eb0cee"
      },
      "execution_count": 11,
      "outputs": [
        {
          "output_type": "execute_result",
          "data": {
            "text/plain": [
              "shape: (30, 3)\n",
              "┌─────────────────┬───────┬──────────────┐\n",
              "│ Cut             ┆ Color ┆ avg_Price    │\n",
              "│ ---             ┆ ---   ┆ ---          │\n",
              "│ str             ┆ str   ┆ f64          │\n",
              "╞═════════════════╪═══════╪══════════════╡\n",
              "│ Ideal           ┆ E     ┆ 12647.107914 │\n",
              "│ Fair            ┆ G     ┆ 7345.52381   │\n",
              "│ Good            ┆ E     ┆ 8969.545455  │\n",
              "│ Signature-Ideal ┆ H     ┆ 9112.688889  │\n",
              "│ Signature-Ideal ┆ G     ┆ 10248.296875 │\n",
              "│ …               ┆ …     ┆ …            │\n",
              "│ Very Good       ┆ I     ┆ 8930.031332  │\n",
              "│ Very Good       ┆ H     ┆ 10056.106132 │\n",
              "│ Fair            ┆ H     ┆ 5908.5       │\n",
              "│ Good            ┆ G     ┆ 9988.614865  │\n",
              "│ Fair            ┆ F     ┆ 6063.625     │\n",
              "└─────────────────┴───────┴──────────────┘"
            ],
            "text/html": [
              "<div><style>\n",
              ".dataframe > thead > tr,\n",
              ".dataframe > tbody > tr {\n",
              "  text-align: right;\n",
              "  white-space: pre-wrap;\n",
              "}\n",
              "</style>\n",
              "<small>shape: (30, 3)</small><table border=\"1\" class=\"dataframe\"><thead><tr><th>Cut</th><th>Color</th><th>avg_Price</th></tr><tr><td>str</td><td>str</td><td>f64</td></tr></thead><tbody><tr><td>&quot;Ideal&quot;</td><td>&quot;E&quot;</td><td>12647.107914</td></tr><tr><td>&quot;Fair&quot;</td><td>&quot;G&quot;</td><td>7345.52381</td></tr><tr><td>&quot;Good&quot;</td><td>&quot;E&quot;</td><td>8969.545455</td></tr><tr><td>&quot;Signature-Ideal&quot;</td><td>&quot;H&quot;</td><td>9112.688889</td></tr><tr><td>&quot;Signature-Ideal&quot;</td><td>&quot;G&quot;</td><td>10248.296875</td></tr><tr><td>&hellip;</td><td>&hellip;</td><td>&hellip;</td></tr><tr><td>&quot;Very Good&quot;</td><td>&quot;I&quot;</td><td>8930.031332</td></tr><tr><td>&quot;Very Good&quot;</td><td>&quot;H&quot;</td><td>10056.106132</td></tr><tr><td>&quot;Fair&quot;</td><td>&quot;H&quot;</td><td>5908.5</td></tr><tr><td>&quot;Good&quot;</td><td>&quot;G&quot;</td><td>9988.614865</td></tr><tr><td>&quot;Fair&quot;</td><td>&quot;F&quot;</td><td>6063.625</td></tr></tbody></table></div>"
            ]
          },
          "metadata": {},
          "execution_count": 11
        }
      ]
    },
    {
      "cell_type": "code",
      "source": [
        "#q10\n",
        "cut_color_combo = df.group_by(['Cut', 'Color']).agg(\n",
        "    pl.col('Price').sum().alias('Total_Value'),\n",
        "    pl.col('Cut').count().alias('Diamond_Count')\n",
        ")\n",
        "cut_color_combo.head().sort('Total_Value', descending=True)"
      ],
      "metadata": {
        "colab": {
          "base_uri": "https://localhost:8080/",
          "height": 255
        },
        "id": "ofPXaNe6MEQb",
        "outputId": "a63bbb0a-964c-47b1-dcc5-e5e6cd3130fb"
      },
      "execution_count": 12,
      "outputs": [
        {
          "output_type": "execute_result",
          "data": {
            "text/plain": [
              "shape: (5, 4)\n",
              "┌─────────────────┬───────┬─────────────┬───────────────┐\n",
              "│ Cut             ┆ Color ┆ Total_Value ┆ Diamond_Count │\n",
              "│ ---             ┆ ---   ┆ ---         ┆ ---           │\n",
              "│ str             ┆ str   ┆ i64         ┆ u32           │\n",
              "╞═════════════════╪═══════╪═════════════╪═══════════════╡\n",
              "│ Ideal           ┆ I     ┆ 3906810     ┆ 413           │\n",
              "│ Very Good       ┆ D     ┆ 3502989     ┆ 265           │\n",
              "│ Good            ┆ E     ┆ 986650      ┆ 110           │\n",
              "│ Signature-Ideal ┆ G     ┆ 655891      ┆ 64            │\n",
              "│ Fair            ┆ G     ┆ 154256      ┆ 21            │\n",
              "└─────────────────┴───────┴─────────────┴───────────────┘"
            ],
            "text/html": [
              "<div><style>\n",
              ".dataframe > thead > tr,\n",
              ".dataframe > tbody > tr {\n",
              "  text-align: right;\n",
              "  white-space: pre-wrap;\n",
              "}\n",
              "</style>\n",
              "<small>shape: (5, 4)</small><table border=\"1\" class=\"dataframe\"><thead><tr><th>Cut</th><th>Color</th><th>Total_Value</th><th>Diamond_Count</th></tr><tr><td>str</td><td>str</td><td>i64</td><td>u32</td></tr></thead><tbody><tr><td>&quot;Ideal&quot;</td><td>&quot;I&quot;</td><td>3906810</td><td>413</td></tr><tr><td>&quot;Very Good&quot;</td><td>&quot;D&quot;</td><td>3502989</td><td>265</td></tr><tr><td>&quot;Good&quot;</td><td>&quot;E&quot;</td><td>986650</td><td>110</td></tr><tr><td>&quot;Signature-Ideal&quot;</td><td>&quot;G&quot;</td><td>655891</td><td>64</td></tr><tr><td>&quot;Fair&quot;</td><td>&quot;G&quot;</td><td>154256</td><td>21</td></tr></tbody></table></div>"
            ]
          },
          "metadata": {},
          "execution_count": 12
        }
      ]
    }
  ]
}